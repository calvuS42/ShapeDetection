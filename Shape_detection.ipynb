{
 "cells": [
  {
   "cell_type": "code",
   "execution_count": 1,
   "metadata": {},
   "outputs": [],
   "source": [
    "import cv2\n",
    "import numpy as np\n",
    "import imutils\n",
    "from matplotlib import pyplot as plt\n",
    "%matplotlib inline"
   ]
  },
  {
   "cell_type": "code",
   "execution_count": 2,
   "metadata": {},
   "outputs": [],
   "source": [
    "# resizing the input image, return resized version and ration to the original one\n",
    "def resize_img(image):\n",
    "    resized = imutils.resize(image, width=300)\n",
    "    ratio = image.shape[0] / float(resized.shape[0])\n",
    "    return resized, ratio\n",
    "\n",
    "# preparing the image for HoughCircles algorithm to be applied\n",
    "def prepare_img_for_circles(img):\n",
    "    color = cv2.cvtColor(img, cv2.COLOR_BGR2HSV)\n",
    "    blurred = cv2.GaussianBlur(color, (5, 5), 3)\n",
    "    color = cv2.cvtColor(blurred, cv2.COLOR_HSV2RGB)\n",
    "    gray = cv2.cvtColor(color, cv2.COLOR_RGB2GRAY)\n",
    "    thresh = cv2.threshold(gray, 135, 255, cv2.THRESH_TOZERO)[1]\n",
    "    return thresh"
   ]
  },
  {
   "cell_type": "code",
   "execution_count": 3,
   "metadata": {},
   "outputs": [],
   "source": [
    "# apply the HoughCircles algorithm and return found circles\n",
    "def get_circles(img,\n",
    "                minDist = 75,\n",
    "                param1 = 60,\n",
    "                param2 = 22, \n",
    "                minRadius = 4,\n",
    "                maxRadius = 30):\n",
    "    \n",
    "    circles = cv2.HoughCircles(img,\n",
    "                               cv2.HOUGH_GRADIENT,\n",
    "                               1,\n",
    "                               minDist, \n",
    "                               param1=param1, \n",
    "                               param2=param2, \n",
    "                               minRadius=minRadius, \n",
    "                               maxRadius=maxRadius)\n",
    "    return circles\n",
    "\n",
    "# display found circles in the source image (with given ratio)\n",
    "def write_circles_on_img(circles, img, ratio, out_img):\n",
    "    color = (255, 0, 0)\n",
    "    if circles is not None:\n",
    "        circles = np.uint16(np.around(circles*ratio))\n",
    "        for circle in circles[0]:\n",
    "            x = circle[0] - circle[2]\n",
    "            y = circle[1] - circle[2]\n",
    "            w = circle[2] * 2\n",
    "            h = w\n",
    "            draw_rect_text(out_img, \"circle\", x, y, w, h, color)\n",
    "        "
   ]
  },
  {
   "cell_type": "code",
   "execution_count": 4,
   "metadata": {},
   "outputs": [],
   "source": [
    "# preparing the image for finding contours\n",
    "def prepare_img_for_angles(img):\n",
    "    kernel = np.ones((2,2), np.uint8)\n",
    "    \n",
    "    color = cv2.cvtColor(img, cv2.COLOR_BGR2HSV)\n",
    "    lower = np.array([100, 59, 0],dtype='float')\n",
    "    upper = np.array([255, 100, 255], dtype='float')\n",
    "    mask = cv2.inRange(color, lower, upper)\n",
    "\n",
    "    erosion = cv2.erode(mask, kernel, iterations=2)\n",
    "    dilation = cv2.dilate(erosion, kernel, iterations=2)\n",
    "    blurred = cv2.GaussianBlur(dilation, (1,3), 0)\n",
    "    thresh = cv2.threshold(blurred, 175, 255, cv2.THRESH_BINARY)[1]\n",
    "    return thresh\n",
    "\n",
    "# drawing the rectangle over the found figure and put the text on top of it\n",
    "def draw_rect_text(img, text, x, y, w, h, color, thickness = 2):\n",
    "        cv2.rectangle(img, (x, y), (x + w, y + h), color, thickness)\n",
    "        cv2.putText(img, text, (x, y), cv2.FONT_HERSHEY_SIMPLEX,\n",
    "        2, color, thickness)\n",
    "\n",
    "# finding contours and checks if it rectangle or triangle\n",
    "def find_figures(img, out_img, ratio):    \n",
    "    cnts = cv2.findContours(img, cv2.RETR_LIST, cv2.CHAIN_APPROX_TC89_L1)\n",
    "    cnts = cnts[0] if len(cnts) == 2 else cnts[1]\n",
    "    for c in cnts:\n",
    "        peri = cv2.arcLength(c, True)\n",
    "        approx = cv2.approxPolyDP(c, 0.04 * peri, True)\n",
    "        tuple_out = cv2.boundingRect(c)\n",
    "        arr = [int(x*ratio) for x in tuple_out]\n",
    "        x, y, w, h = arr[0], arr[1], arr[2], arr[3]\n",
    "\n",
    "        if len(approx) == 3 and peri > 50:\n",
    "            color = (0,255,0)\n",
    "            draw_rect_text(out_img, \"triangle\", x, y, w, h, color)\n",
    "        elif len(approx) == 4 and peri > 50:\n",
    "            color = (0,0,255)\n",
    "            draw_rect_text(out_img, \"rectangle\", x, y, w, h, color)\n"
   ]
  },
  {
   "cell_type": "code",
   "execution_count": 5,
   "metadata": {},
   "outputs": [
    {
     "name": "stderr",
     "output_type": "stream",
     "text": [
      "<ipython-input-3-805e54c119c4>:26: RuntimeWarning: overflow encountered in ushort_scalars\n",
      "  y = circle[1] - circle[2]\n"
     ]
    }
   ],
   "source": [
    "# open the required video\n",
    "cap = cv2.VideoCapture('Internship2021testtask.mp4')\n",
    "frame_width = int(cap.get(3))\n",
    "frame_height = int(cap.get(4))\n",
    "fps = int(cap.get(5))\n",
    "\n",
    "# define the output source\n",
    "out = cv2.VideoWriter('output_video.avi',cv2.VideoWriter_fourcc('M','J','P','G'),\n",
    "                      fps, (frame_width,frame_height))\n",
    "\n",
    "# perform the transformations for the each frame of the video and save it\n",
    "while(True):\n",
    "    \n",
    "    ret, frame = cap.read()\n",
    "    if ret == True:\n",
    "        out_img = frame.copy()\n",
    "        resized, ratio = resize_img(frame)\n",
    "        thresh = prepare_img_for_circles(resized)\n",
    "        circles = get_circles(thresh)\n",
    "        write_circles_on_img(circles, resized, ratio, out_img)\n",
    "        thresh = prepare_img_for_angles(resized)\n",
    "        find_figures(thresh, out_img, ratio)\n",
    "        out.write(out_img)\n",
    "    else:\n",
    "        break \n",
    "\n",
    "# releasing input and output stream\n",
    "cap.release()\n",
    "out.release()\n"
   ]
  },
  {
   "cell_type": "code",
   "execution_count": null,
   "metadata": {},
   "outputs": [],
   "source": []
  }
 ],
 "metadata": {
  "kernelspec": {
   "display_name": "Python 3",
   "language": "python",
   "name": "python3"
  },
  "language_info": {
   "codemirror_mode": {
    "name": "ipython",
    "version": 3
   },
   "file_extension": ".py",
   "mimetype": "text/x-python",
   "name": "python",
   "nbconvert_exporter": "python",
   "pygments_lexer": "ipython3",
   "version": "3.8.5"
  }
 },
 "nbformat": 4,
 "nbformat_minor": 4
}
